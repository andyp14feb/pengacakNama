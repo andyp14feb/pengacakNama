{
 "cells": [
  {
   "cell_type": "code",
   "execution_count": null,
   "metadata": {},
   "outputs": [
    {
     "name": "stdout",
     "output_type": "stream",
     "text": [
      "Randomized names have been saved to randomNameMapping.xlsx.\n"
     ]
    }
   ],
   "source": [
    "import pandas as pd\n",
    "import random\n",
    "\n",
    "# Function buat randomize satu column doang\n",
    "def randomize(df, column_name):\n",
    "    # Step 1: Biar semua value jadi string dan handle yang NaN atau non-string value\n",
    "    df[column_name] = df[column_name].fillna('')  # Ganti NaN dengan string kosong\n",
    "    df[column_name] = df[column_name].astype(str)  # Pastikan semua jadi string\n",
    "\n",
    "    # Kumpulin semua kata unik dari column yang dimaksud\n",
    "    all_words = list(set(word for name in df[column_name] for word in name.split()))\n",
    "\n",
    "    # Step 2: Bikin list kata yang udah di-random (biar gak ada kata yang ketuker sama dirinya sendiri)\n",
    "    def shuffle_without_self_mapping(words):\n",
    "        while True:\n",
    "            randomized_words = random.sample(words, len(words))\n",
    "            # Cek kalo ada kata yang ketuker sama dirinya sendiri\n",
    "            if all(original != randomized for original, randomized in zip(words, randomized_words)):\n",
    "                return randomized_words\n",
    "\n",
    "    randomized_words = shuffle_without_self_mapping(all_words)\n",
    "\n",
    "    # Step 3: Bikin mapping dari kata asli ke kata yang udah di-random (mapping satu-satu)\n",
    "    word_mapping = {original: randomized for original, randomized in zip(all_words, randomized_words)}\n",
    "\n",
    "    # Step 4: Terapin mapping ini ke setiap nama, biar kata-katanya ke-map dengan konsisten\n",
    "    def apply_mapping(name, word_mapping):\n",
    "        return ' '.join([word_mapping[word] for word in name.split()])\n",
    "\n",
    "    # Terapin mapping ke column yang dimaksud\n",
    "    df['RandomizedName'] = df[column_name].apply(lambda x: apply_mapping(x, word_mapping))\n",
    "\n",
    "    # Bikin DataFrame yang isinya nama asli dan nama yang udah di-random\n",
    "    result_df = df[['name', 'RandomizedName']]\n",
    "\n",
    "    # Save hasilnya ke Excel file baru\n",
    "    result_df.to_excel('randomNameMapping.xlsx', index=False)\n",
    "\n",
    "    return df\n",
    "\n",
    "# Contoh pake script ini\n",
    "file_path = 'namesources.xlsx'\n",
    "\n",
    "# Load data dari excel\n",
    "df_Ba = pd.read_excel(file_path)  # Ganti 'baba' dengan nama sheet yang bener\n",
    "\n",
    "# Terapin fungsi randomize ke column 'name'\n",
    "randomized_df = randomize(df_Ba, 'name')\n",
    "\n",
    "# Output ke user\n",
    "print(\"Randomized names have been saved to randomNameMapping.xlsx.\")\n"
   ]
  }
 ],
 "metadata": {
  "kernelspec": {
   "display_name": "Python (datly)",
   "language": "python",
   "name": "datly"
  },
  "language_info": {
   "codemirror_mode": {
    "name": "ipython",
    "version": 3
   },
   "file_extension": ".py",
   "mimetype": "text/x-python",
   "name": "python",
   "nbconvert_exporter": "python",
   "pygments_lexer": "ipython3",
   "version": "3.8.20"
  }
 },
 "nbformat": 4,
 "nbformat_minor": 2
}
